{
 "cells": [
  {
   "cell_type": "code",
   "execution_count": 1,
   "metadata": {},
   "outputs": [
    {
     "data": {
      "text/plain": [
       "15.0"
      ]
     },
     "execution_count": 1,
     "metadata": {},
     "output_type": "execute_result"
    }
   ],
   "source": [
    "from pyclbr import Function\n",
    "from typing import Callable, Any\n",
    "    \n",
    "    \n",
    "def f(x: int, y: float, z):\n",
    "    return x+y+z\n",
    "\n",
    "def string(x, y, z):\n",
    "    return x+y+z\n",
    "\n",
    "\n",
    "'function taken from class summary'\n",
    "def error_fun(x):\n",
    "    raise Exception(\"Invalid input\", x)\n",
    "\n",
    "def safe_call(func: Function, x: Any, y: Any, z: Any):\n",
    "    annotations = func.__annotations__\n",
    "    localvars = locals()\n",
    "    for a in annotations.keys():\n",
    "        if annotations[a] is not type(localvars[a]):\n",
    "            error_fun(localvars[a])\n",
    "    return func(x,y,z)\n",
    "\n",
    "safe_call(f, x=5, y=7.0, z=3)\n",
    "# safe_call(f, x=5, y=\\\"abc\\\", z=3)\\n\",\n",
    "# safe_call(string, x=\\\"5\\\", y=\\\"abc\\\", z=3)\\n\",\n",
    "# safe_call(string, x=\\\"5\\\", y=\\\"abc\\\", z=\\\"3\\\")\""
   ]
  },
  {
   "cell_type": "code",
   "execution_count": 2,
   "metadata": {},
   "outputs": [
    {
     "name": "stdout",
     "output_type": "stream",
     "text": [
      "(0, 0)\n",
      "(0, 0)(1, 0)\n",
      "(0, 0)(1, 0)(2, 0)\n",
      "(0, 0)(1, 0)(2, 0)(2, 1)(2, 2)\n",
      "(0, 0, 0)\n",
      "(0, 0, 0)(1, 0, 0)\n",
      "(0, 0, 0)(1, 0, 0)(2, 0, 0)(2, 0, -1)\n",
      "(0, 0, 0)(1, 0, 0)(2, 0, 0)(2, 1, 0)(2, 2, 0)(2, 2, -1)(2, 2, -2)\n"
     ]
    }
   ],
   "source": [
    "from collections import deque\n",
    "\n",
    "def eight_neighbor_function(node:Any)->list: \n",
    "    (x,y,z) = node \n",
    "    # print(node)\n",
    "    return [(x+1,y,z), (x-1,y,z), (x,y+1,z), (x,y-1,z),(x,y,z+1), (x,y,z-1)]\n",
    "\n",
    "\n",
    "def four_neighbor_function(node:Any)->list: \n",
    "    (x,y) = node \n",
    "    # print(node)\n",
    "    return [(x+1,y), (x-1,y), (x,y+1), (x,y-1)]\n",
    "\n",
    "def breadth_first_search(start: Any, end: Any, neighbor_function: Callable):\n",
    "    q = deque()\n",
    "    visited = set()\n",
    "    q.append((start, str(start)))\n",
    "    # label start as explored\n",
    "    visited.add(start)\n",
    "    while len(q) != 0: \n",
    "        v = q.popleft()\n",
    "        if v[0] == end:\n",
    "            return v[1]\n",
    "        for w in neighbor_function(v[0]):\n",
    "            if w not in visited: # w is not labled as explored\n",
    "                # print(w)\n",
    "                visited.add(w) #label w as explored\n",
    "                q.append((w, v[1]+str(w)))\n",
    "\n",
    "\n",
    "print(breadth_first_search(start=(0,0), end=(0,0), neighbor_function= four_neighbor_function))\n",
    "print(breadth_first_search(start=(0,0), end=(1,0), neighbor_function= four_neighbor_function))\n",
    "print(breadth_first_search(start=(0,0), end=(2,0), neighbor_function= four_neighbor_function))\n",
    "print(breadth_first_search(start=(0,0), end=(2,2), neighbor_function= four_neighbor_function))\n",
    "\n",
    "print(breadth_first_search(start=(0,0,0), end=(0,0,0), neighbor_function= eight_neighbor_function))\n",
    "print(breadth_first_search(start=(0,0,0), end=(1,0,0), neighbor_function= eight_neighbor_function))\n",
    "print(breadth_first_search(start=(0,0,0), end=(2,0,-1), neighbor_function= eight_neighbor_function))\n",
    "print(breadth_first_search(start=(0,0,0), end=(2,2,-2), neighbor_function= eight_neighbor_function))"
   ]
  },
  {
   "cell_type": "code",
   "execution_count": null,
   "metadata": {},
   "outputs": [],
   "source": [
    "import collections\n",
    "\n",
    "# def sort(x):\n",
    "#     x=str(x)\n",
    "#     x=x.split()\n",
    "#     print(x.sort)\n",
    "    # print(x)\n",
    "    # z = []\n",
    "    # for y in x:\n",
    "    #     if type(y) is type([]) or type(y) is type({}) or type(y) is type(set()) or type(y) is type(()):\n",
    "    #         y=sort(y)\n",
    "    #         print(y)\n",
    "    #         print(\"hi\")\n",
    "    #         z.append(str(y))\n",
    "    # return z.sort()\n",
    "    \n",
    "\n",
    "def print_sorted(x):\n",
    "    # print(type(collections))\n",
    "    # print(\"hi\")\n",
    "    # print(sort(x))\n",
    "    print(x)\n",
    "    x=str(x)\n",
    "    print(x)\n",
    "    for s in [\",\",\" \",\"{\", \"}\", \"[\", \"]\", \"(\", \")\", \"'\", '\"']:\n",
    "        x=x.split(s)\n",
    "    print(x)\n",
    "    print(x.sort())\n",
    "\n",
    "\n",
    "\n",
    "txt = \"hello, my name is Peter, I am 26 years old\"\n",
    "\n",
    "x = txt.split(\", \")\n",
    "print(x)\n",
    "x = {\"a\": 5, \"c\": 6, \"b\": [1, 3, 2, 4]}\n",
    "print_sorted(x) # prints e.g. {\"a\":5, \"b\":[1,2,3,4], \"c\":6}\n",
    "y = {\"z\": 5, \"d\": 6, \"b\": [1, 3, 2, 4]}\n",
    "print_sorted(y) # prints e.g. {\"b\":[1,2,3,4], \"d\":6, \"z\":5}\n",
    "z = {\"x\": 5, \"c\": 6, \"a\": [6, 3, 2, 4]}\n",
    "print_sorted(z) # prints e.g. {\"a\":[2, 3, 4, 6], \"c\":6, \"x\":5}\n"
   ]
  }
 ],
 "metadata": {
  "kernelspec": {
   "display_name": "Python 3.11.0 64-bit",
   "language": "python",
   "name": "python3"
  },
  "language_info": {
   "codemirror_mode": {
    "name": "ipython",
    "version": 3
   },
   "file_extension": ".py",
   "mimetype": "text/x-python",
   "name": "python",
   "nbconvert_exporter": "python",
   "pygments_lexer": "ipython3",
   "version": "3.11.0"
  },
  "orig_nbformat": 4,
  "vscode": {
   "interpreter": {
    "hash": "1b47b5552af0ef1a049431ccbb86f2e441c7d0dc88575d4dae3ed9760f2edbf1"
   }
  }
 },
 "nbformat": 4,
 "nbformat_minor": 2
}

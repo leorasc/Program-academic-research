{
 "cells": [
  {
   "cell_type": "code",
   "execution_count": 3,
   "metadata": {},
   "outputs": [
    {
     "name": "stdout",
     "output_type": "stream",
     "text": [
      "valid:\n",
      "abc_def@mail.com\n",
      "aa@ma-il.cc\n",
      "a.a_xc-ks@mail.cc\n",
      "a@mail.cc\n",
      "aa@mail.cc\n",
      "abc-d@mail.com\n",
      "Leorabach@gmail.com\n",
      "Leorab.ach@gmail.com\n",
      "not valid:\n",
      "_aa@mail.cc\n",
      "abc-@mail.com\n",
      "abc..def@mail.com\n",
      "Leorabach@gmail.c\n",
      ".abc@mail.com\n",
      "abc#def@mail.com\n",
      "L$e%o@r#abach@gmail.com\n"
     ]
    }
   ],
   "source": [
    "import re\n",
    "\n",
    "def print_emails(sfile):\n",
    "    \"\"\" Prints the valid emails in a list, and then the not valid ones.\n",
    "    \"\"\"\n",
    "    with open(sfile, 'r') as file:\n",
    "        s = file.read()\n",
    "        lst = [s.split(\" \")]\n",
    "        valid = []\n",
    "        n_valid = []\n",
    "        for l in lst:\n",
    "            for s in l:\n",
    "                query = re.match(r\"[a-zA-Z0-9]+([._-][a-zA-Z0-9]+)*@[a-zA-Z0-9]+(-[a-zA-Z0-9]+)*[.][a-zA-Z0-9]{2,}\\b\", s, flags=0)\n",
    "                if query is not None:\n",
    "                    valid.append(query.group())\n",
    "                else:\n",
    "                    query = re.match(r\"\\S*\",s,flags=0)\n",
    "                    if query.group() != '':\n",
    "                        n_valid.append(query.group())\n",
    "\n",
    "    print(\"valid:\")\n",
    "    for s in valid:\n",
    "        print(s)\n",
    "\n",
    "    print(\"not valid:\")\n",
    "    for s in n_valid:\n",
    "        print(s)\n",
    "\n",
    "print_emails(\"emails.txt\")"
   ]
  },
  {
   "cell_type": "code",
   "execution_count": 121,
   "metadata": {},
   "outputs": [
    {
     "name": "stdout",
     "output_type": "stream",
     "text": [
      "S is a 'str'\n",
      "I already told you that the answer is None!\n",
      "4\n",
      "I already told you that the answer is 4!\n",
      "2 is a 'int'\n",
      "100\n",
      "I already told you that the answer is 4!\n",
      "I already told you that the answer is 100!\n"
     ]
    }
   ],
   "source": [
    "import math\n",
    "from pyclbr import Function\n",
    "from typing import Any\n",
    "\n",
    "def lastcall(func: Function):\n",
    "    dic = {}\n",
    "    def wrapper(x):\n",
    "        if (x,func) in dic.keys():\n",
    "            print(\"I already told you that the answer is \"+str(dic[(x,func)])+\"!\")\n",
    "        else:\n",
    "            dic[(x,func)]= func(x)\n",
    "            return dic[(x,func)]\n",
    "    return wrapper\n",
    "\n",
    "@lastcall\n",
    "def pow2(x: float):\n",
    "    return x**2\n",
    "\n",
    "@lastcall\n",
    "def powx(x: float):\n",
    "    return x**x\n",
    "\n",
    "@lastcall\n",
    "def print_x(x: Any):\n",
    "    s = str(type(x))\n",
    "    print(str(x) + \" is a \" + s[7:len(s)-1])\n",
    "\n",
    "@lastcall\n",
    "def loge(x: int):\n",
    "    return math.log(x)\n",
    "\n",
    "@lastcall\n",
    "def log2(x: int):\n",
    "    return math.log2(x)\n",
    "\n",
    "@lastcall\n",
    "def log10(x: int):\n",
    "    return math.log10(x)\n",
    "\n",
    "print_x(\"S\")\n",
    "print_x(\"S\")\n",
    "print(pow2(2))\n",
    "pow2(2)\n",
    "print_x(2)\n",
    "print(pow2(10))\n",
    "pow2(2)\n",
    "pow2(10)"
   ]
  },
  {
   "cell_type": "code",
   "execution_count": 10,
   "metadata": {},
   "outputs": [
    {
     "name": "stdout",
     "output_type": "stream",
     "text": [
      "init\n",
      "<class 'type'>\n",
      "[]\n",
      "getitem\n",
      "(0, 1, 3)\n",
      "0\n",
      "(1, 3)\n"
     ]
    },
    {
     "ename": "IndexError",
     "evalue": "list index out of range",
     "output_type": "error",
     "traceback": [
      "\u001b[1;31m---------------------------------------------------------------------------\u001b[0m",
      "\u001b[1;31mIndexError\u001b[0m                                Traceback (most recent call last)",
      "Cell \u001b[1;32mIn [10], line 55\u001b[0m\n\u001b[0;32m     50\u001b[0m \u001b[39m# from typing import Type\u001b[39;00m\n\u001b[0;32m     51\u001b[0m \u001b[39m# list = Type(List)\u001b[39;00m\n\u001b[0;32m     54\u001b[0m mylist \u001b[39m=\u001b[39m List([[[\u001b[39m1\u001b[39m,\u001b[39m2\u001b[39m,\u001b[39m3\u001b[39m,\u001b[39m33\u001b[39m],[\u001b[39m4\u001b[39m,\u001b[39m5\u001b[39m,\u001b[39m6\u001b[39m,\u001b[39m66\u001b[39m]], [[\u001b[39m7\u001b[39m,\u001b[39m8\u001b[39m,\u001b[39m9\u001b[39m,\u001b[39m99\u001b[39m],[\u001b[39m10\u001b[39m,\u001b[39m11\u001b[39m,\u001b[39m12\u001b[39m,\u001b[39m122\u001b[39m]], [[\u001b[39m13\u001b[39m,\u001b[39m14\u001b[39m,\u001b[39m15\u001b[39m,\u001b[39m155\u001b[39m],[\u001b[39m16\u001b[39m,\u001b[39m17\u001b[39m,\u001b[39m18\u001b[39m,\u001b[39m188\u001b[39m]], ] ) \n\u001b[1;32m---> 55\u001b[0m \u001b[39mprint\u001b[39m(mylist[\u001b[39m0\u001b[39;49m,\u001b[39m1\u001b[39;49m,\u001b[39m3\u001b[39;49m])\n\u001b[0;32m     56\u001b[0m \u001b[39m# print(mylist[0])\u001b[39;00m\n\u001b[0;32m     57\u001b[0m \u001b[39m# [[1,2,3,33],[4,5,6,66]]\u001b[39;00m\n",
      "Cell \u001b[1;32mIn [10], line 32\u001b[0m, in \u001b[0;36mList.__getitem__\u001b[1;34m(self, *arg)\u001b[0m\n\u001b[0;32m     30\u001b[0m \u001b[39mprint\u001b[39m(\u001b[39mstr\u001b[39m(arg[\u001b[39m0\u001b[39m][\u001b[39m0\u001b[39m]))\n\u001b[0;32m     31\u001b[0m \u001b[39mprint\u001b[39m(\u001b[39mstr\u001b[39m(arg[\u001b[39m0\u001b[39m][\u001b[39m1\u001b[39m:]))\n\u001b[1;32m---> 32\u001b[0m \u001b[39mprint\u001b[39m(\u001b[39mself\u001b[39;49m\u001b[39m.\u001b[39;49mlists[arg[\u001b[39m0\u001b[39;49m][\u001b[39m0\u001b[39;49m]])\n\u001b[0;32m     33\u001b[0m \u001b[39mreturn\u001b[39;00m \u001b[39mself\u001b[39m\u001b[39m.\u001b[39mlists[arg[\u001b[39m0\u001b[39m][\u001b[39m0\u001b[39m]][arg[\u001b[39m0\u001b[39m][\u001b[39m1\u001b[39m:]]\n",
      "\u001b[1;31mIndexError\u001b[0m: list index out of range"
     ]
    }
   ],
   "source": [
    "class List(list):\n",
    "    def __init__(self, lst):\n",
    "        print(\"init\")\n",
    "        print(type(list))\n",
    "        self.lists = []\n",
    "        self.len = 0\n",
    "        for i in range(len(lst)):\n",
    "            if type(lst[i]) == type(list):\n",
    "                self.lists.append(lst[i])\n",
    "                self.len += 1\n",
    "        print(self.lists)\n",
    "\n",
    "    def __setitem__(self, *arg, value: object):\n",
    "        print(\"setitem\")\n",
    "        if len(arg) == 1:\n",
    "            self.lists[arg] = value\n",
    "        else:\n",
    "            self.lists[arg[0]][arg[1:]] = value\n",
    "\n",
    "    def __getitem__(self, *arg):\n",
    "        # print(self.lists)\n",
    "        print(\"getitem\")\n",
    "        if len(arg[0]) == 1:\n",
    "            print(arg)\n",
    "            print(arg[0][0])\n",
    "            print(self.lists[arg[0][0]])\n",
    "            return self.lists[arg[0][0]]\n",
    "        else:\n",
    "            print(str(arg[0]))\n",
    "            print(str(arg[0][0]))\n",
    "            print(str(arg[0][1:]))\n",
    "            print(self.lists[arg[0][0]])\n",
    "            return self.lists[arg[0][0]][arg[0][1:]]\n",
    "\n",
    "    def __str__(self):\n",
    "        s = \"\"\n",
    "        for i in range(len(self.lists)):\n",
    "            s += str(self.lists[i])\n",
    "        return s\n",
    "\n",
    "    def __repr__(self):\n",
    "        s = \"\"\n",
    "        for i in range(len(self.lists)):\n",
    "            s += str(self.lists[i])\n",
    "        return s\n",
    "\n",
    "    def __len__(self):\n",
    "        return self.len\n",
    "\n",
    "# from typing import Type\n",
    "# list = Type(List)\n",
    "\n",
    "\n",
    "mylist = List([[[1,2,3,33],[4,5,6,66]], [[7,8,9,99],[10,11,12,122]], [[13,14,15,155],[16,17,18,188]], ] ) \n",
    "print(mylist[0,1,3])\n",
    "# print(mylist[0])\n",
    "# [[1,2,3,33],[4,5,6,66]]\n",
    "\n",
    "\n"
   ]
  },
  {
   "cell_type": "code",
   "execution_count": 137,
   "metadata": {},
   "outputs": [
    {
     "name": "stdout",
     "output_type": "stream",
     "text": [
      "[[0, 1], [2, 4]]\n",
      "3\n",
      "1\n"
     ]
    }
   ],
   "source": [
    "mylist = [[[0,1], [2,4]] ,[[1,2,3,33],[4,5,6,66]], [[7,8,9,99],[10,11,12,122]], [[13,14,15,155],[16,17,18,188]], ]  \n",
    "# print(mylist[0][1][3])\n",
    "print(mylist[0])\n",
    "# [[1,2,3,33],[4,5,6,66]]\n",
    "print(len(\"stt\"))\n",
    "print(len(\"t\"))\n",
    "# print(len(0)) # error\n"
   ]
  }
 ],
 "metadata": {
  "kernelspec": {
   "display_name": "Python 3.11.0 64-bit",
   "language": "python",
   "name": "python3"
  },
  "language_info": {
   "codemirror_mode": {
    "name": "ipython",
    "version": 3
   },
   "file_extension": ".py",
   "mimetype": "text/x-python",
   "name": "python",
   "nbconvert_exporter": "python",
   "pygments_lexer": "ipython3",
   "version": "3.11.0"
  },
  "orig_nbformat": 4,
  "vscode": {
   "interpreter": {
    "hash": "1b47b5552af0ef1a049431ccbb86f2e441c7d0dc88575d4dae3ed9760f2edbf1"
   }
  }
 },
 "nbformat": 4,
 "nbformat_minor": 2
}
